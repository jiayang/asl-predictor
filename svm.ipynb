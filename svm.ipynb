{
 "cells": [
  {
   "cell_type": "code",
   "execution_count": 1,
   "id": "f62ae29b",
   "metadata": {},
   "outputs": [],
   "source": [
    "import numpy as np\n",
    "import pandas as pd\n",
    "from sklearn import svm\n",
    "from sklearn.model_selection import train_test_split\n",
    "from sklearn.preprocessing import StandardScaler\n",
    "import matplotlib.pyplot as plt\n",
    "%matplotlib inline "
   ]
  },
  {
   "cell_type": "code",
   "execution_count": 2,
   "id": "ec1571f7",
   "metadata": {},
   "outputs": [],
   "source": [
    "df = np.array([])\n",
    "\n",
    "for i in range(10):\n",
    "    data = np.array(pd.read_csv(f'American Sign Language Digits Dataset/{i}/Output Images - Sign {i}.csv'))\n",
    "    df = np.append(df,data)\n",
    "df = df.reshape((5000,65))\n",
    "np.random.shuffle(df)\n",
    "paths = df[:,0]\n",
    "X = df[:,1:64]\n",
    "y = df[:,64]\n",
    "X_scale = StandardScaler()\n",
    "X = X_scale.fit_transform(X)\n",
    "X_train, X_test, y_train, y_test = train_test_split(X, y, test_size=0.5)"
   ]
  },
  {
   "cell_type": "code",
   "execution_count": 17,
   "id": "84364f81",
   "metadata": {},
   "outputs": [],
   "source": [
    "#Returns a model given the training data\n",
    "def svm_model_asl(c, X_train, Y_train, kernel='linear'):\n",
    "    svm_model = svm.SVC(C=c, probability=False, kernel=kernel)\n",
    "    svm_model.fit(X_train, Y_train)\n",
    "    return svm_model\n",
    "\n",
    "#Modifies the labels for 1 vs all classification\n",
    "#e.g. if we are testing for \"1\", all the labels != 1 will be set to 0\n",
    "def change_labels(Y_train, num):\n",
    "    ans = np.array([1 if elem == num else 0 for elem in Y_train])\n",
    "    return ans"
   ]
  },
  {
   "cell_type": "code",
   "execution_count": 4,
   "id": "fa389585",
   "metadata": {},
   "outputs": [],
   "source": [
    "#1 vs all classification\n",
    "\n",
    "#predict given all 10 \"1 vs all models\"\n",
    "def prediction(X, models):\n",
    "    confidences = [model.predict(X) for model in models]\n",
    "    ans = []\n",
    "    for i in range(X.shape[0]):\n",
    "        mostconfident = -1\n",
    "        confidence = -1\n",
    "        for j in range(10):\n",
    "            if confidences[j][i] > confidence:\n",
    "                confidence = confidences[j][i]\n",
    "                mostconfident = j\n",
    "        ans.append(mostconfident)\n",
    "    return ans\n",
    "\n",
    "#accuracy\n",
    "def accuracy(Yhat, Y):\n",
    "    correct = [1 if Yhat[i] == Y[i] else 0 for i in range(len(Y))]\n",
    "    return sum(correct)/len(correct)\n",
    "\n",
    "def svm_a(c, X_train, Y_train, X_test, Y_test, kernel):\n",
    "    models = []\n",
    "    for i in range(10):\n",
    "        Y_train_temp = change_labels(Y_train,i)\n",
    "        models.append(svm_model_asl(c,X_train, Y_train_temp, kernel))\n",
    "    \n",
    "    Yhat_train = prediction(X_train, models)\n",
    "    acc_train = accuracy(Yhat_train, Y_train)\n",
    "    \n",
    "    Yhat_test = prediction(X_test, models)\n",
    "    acc_test = accuracy(Yhat_test, Y_test)\n",
    "    \n",
    "    return (c, acc_train, acc_test)\n"
   ]
  },
  {
   "cell_type": "code",
   "execution_count": 16,
   "id": "d9ee1e6f",
   "metadata": {},
   "outputs": [
    {
     "ename": "TypeError",
     "evalue": "__init__() got an unexpected keyword argument 'penalty'",
     "output_type": "error",
     "traceback": [
      "\u001b[1;31m---------------------------------------------------------------------------\u001b[0m",
      "\u001b[1;31mTypeError\u001b[0m                                 Traceback (most recent call last)",
      "\u001b[1;32m~\\AppData\\Local\\Temp/ipykernel_122844/3409121632.py\u001b[0m in \u001b[0;36m<module>\u001b[1;34m\u001b[0m\n\u001b[1;32m----> 1\u001b[1;33m \u001b[0mmodels\u001b[0m \u001b[1;33m=\u001b[0m \u001b[0msvm_a\u001b[0m\u001b[1;33m(\u001b[0m\u001b[1;36m1\u001b[0m\u001b[1;33m,\u001b[0m \u001b[0mX_train\u001b[0m\u001b[1;33m,\u001b[0m \u001b[0my_train\u001b[0m\u001b[1;33m,\u001b[0m \u001b[0mX_test\u001b[0m\u001b[1;33m,\u001b[0m \u001b[0my_test\u001b[0m\u001b[1;33m,\u001b[0m \u001b[1;34m'poly'\u001b[0m\u001b[1;33m)\u001b[0m\u001b[1;33m\u001b[0m\u001b[1;33m\u001b[0m\u001b[0m\n\u001b[0m",
      "\u001b[1;32m~\\AppData\\Local\\Temp/ipykernel_122844/1638908930.py\u001b[0m in \u001b[0;36msvm_a\u001b[1;34m(c, X_train, Y_train, X_test, Y_test, kernel)\u001b[0m\n\u001b[0;32m     24\u001b[0m     \u001b[1;32mfor\u001b[0m \u001b[0mi\u001b[0m \u001b[1;32min\u001b[0m \u001b[0mrange\u001b[0m\u001b[1;33m(\u001b[0m\u001b[1;36m10\u001b[0m\u001b[1;33m)\u001b[0m\u001b[1;33m:\u001b[0m\u001b[1;33m\u001b[0m\u001b[1;33m\u001b[0m\u001b[0m\n\u001b[0;32m     25\u001b[0m         \u001b[0mY_train_temp\u001b[0m \u001b[1;33m=\u001b[0m \u001b[0mchange_labels\u001b[0m\u001b[1;33m(\u001b[0m\u001b[0mY_train\u001b[0m\u001b[1;33m,\u001b[0m\u001b[0mi\u001b[0m\u001b[1;33m)\u001b[0m\u001b[1;33m\u001b[0m\u001b[1;33m\u001b[0m\u001b[0m\n\u001b[1;32m---> 26\u001b[1;33m         \u001b[0mmodels\u001b[0m\u001b[1;33m.\u001b[0m\u001b[0mappend\u001b[0m\u001b[1;33m(\u001b[0m\u001b[0msvm_model_asl\u001b[0m\u001b[1;33m(\u001b[0m\u001b[0mc\u001b[0m\u001b[1;33m,\u001b[0m\u001b[0mX_train\u001b[0m\u001b[1;33m,\u001b[0m \u001b[0mY_train_temp\u001b[0m\u001b[1;33m,\u001b[0m \u001b[0mkernel\u001b[0m\u001b[1;33m)\u001b[0m\u001b[1;33m)\u001b[0m\u001b[1;33m\u001b[0m\u001b[1;33m\u001b[0m\u001b[0m\n\u001b[0m\u001b[0;32m     27\u001b[0m \u001b[1;33m\u001b[0m\u001b[0m\n\u001b[0;32m     28\u001b[0m     \u001b[0mYhat_train\u001b[0m \u001b[1;33m=\u001b[0m \u001b[0mprediction\u001b[0m\u001b[1;33m(\u001b[0m\u001b[0mX_train\u001b[0m\u001b[1;33m,\u001b[0m \u001b[0mmodels\u001b[0m\u001b[1;33m)\u001b[0m\u001b[1;33m\u001b[0m\u001b[1;33m\u001b[0m\u001b[0m\n",
      "\u001b[1;32m~\\AppData\\Local\\Temp/ipykernel_122844/2055708391.py\u001b[0m in \u001b[0;36msvm_model_asl\u001b[1;34m(c, X_train, Y_train, kernel)\u001b[0m\n\u001b[0;32m      1\u001b[0m \u001b[1;31m#Returns a model given the training data\u001b[0m\u001b[1;33m\u001b[0m\u001b[1;33m\u001b[0m\u001b[1;33m\u001b[0m\u001b[0m\n\u001b[0;32m      2\u001b[0m \u001b[1;32mdef\u001b[0m \u001b[0msvm_model_asl\u001b[0m\u001b[1;33m(\u001b[0m\u001b[0mc\u001b[0m\u001b[1;33m,\u001b[0m \u001b[0mX_train\u001b[0m\u001b[1;33m,\u001b[0m \u001b[0mY_train\u001b[0m\u001b[1;33m,\u001b[0m \u001b[0mkernel\u001b[0m\u001b[1;33m=\u001b[0m\u001b[1;34m'linear'\u001b[0m\u001b[1;33m)\u001b[0m\u001b[1;33m:\u001b[0m\u001b[1;33m\u001b[0m\u001b[1;33m\u001b[0m\u001b[0m\n\u001b[1;32m----> 3\u001b[1;33m     \u001b[0msvm_model\u001b[0m \u001b[1;33m=\u001b[0m \u001b[0msvm\u001b[0m\u001b[1;33m.\u001b[0m\u001b[0mSVC\u001b[0m\u001b[1;33m(\u001b[0m\u001b[0mC\u001b[0m\u001b[1;33m=\u001b[0m\u001b[0mc\u001b[0m\u001b[1;33m,\u001b[0m \u001b[0mprobability\u001b[0m\u001b[1;33m=\u001b[0m\u001b[1;32mFalse\u001b[0m\u001b[1;33m,\u001b[0m \u001b[0mkernel\u001b[0m\u001b[1;33m=\u001b[0m\u001b[0mkernel\u001b[0m\u001b[1;33m,\u001b[0m \u001b[0mpenalty\u001b[0m\u001b[1;33m=\u001b[0m\u001b[1;34m\"l1\"\u001b[0m\u001b[1;33m)\u001b[0m\u001b[1;33m\u001b[0m\u001b[1;33m\u001b[0m\u001b[0m\n\u001b[0m\u001b[0;32m      4\u001b[0m     \u001b[0msvm_model\u001b[0m\u001b[1;33m.\u001b[0m\u001b[0mfit\u001b[0m\u001b[1;33m(\u001b[0m\u001b[0mX_train\u001b[0m\u001b[1;33m,\u001b[0m \u001b[0mY_train\u001b[0m\u001b[1;33m)\u001b[0m\u001b[1;33m\u001b[0m\u001b[1;33m\u001b[0m\u001b[0m\n\u001b[0;32m      5\u001b[0m     \u001b[1;32mreturn\u001b[0m \u001b[0msvm_model\u001b[0m\u001b[1;33m\u001b[0m\u001b[1;33m\u001b[0m\u001b[0m\n",
      "\u001b[1;31mTypeError\u001b[0m: __init__() got an unexpected keyword argument 'penalty'"
     ]
    }
   ],
   "source": [
    "models = svm_a(1, X_train, y_train, X_test, y_test, 'poly')"
   ]
  },
  {
   "cell_type": "code",
   "execution_count": null,
   "id": "b5c012ef",
   "metadata": {},
   "outputs": [],
   "source": [
    "models"
   ]
  },
  {
   "cell_type": "code",
   "execution_count": 13,
   "id": "cd6e28fd",
   "metadata": {},
   "outputs": [],
   "source": [
    "start,end = 2, 20\n",
    "c = [start + (end - start) / 100 * cval for cval in range(0,100)]\n",
    "train = []\n",
    "test = []\n",
    "for cval in c:\n",
    "    res = svm_a(cval, X_train, y_train, X_test, y_test, 'rbf')\n",
    "    train.append(res[1])\n",
    "    test.append(res[2])"
   ]
  },
  {
   "cell_type": "code",
   "execution_count": 14,
   "id": "ef6e185e",
   "metadata": {},
   "outputs": [
    {
     "data": {
      "image/png": "[encoded data removed]",
      "text/plain": [
       "<Figure size 432x288 with 1 Axes>"
      ]
     },
     "metadata": {
      "needs_background": "light"
     },
     "output_type": "display_data"
    }
   ],
   "source": [
    "plt.plot(c,train,'.-',color='green')\n",
    "plt.plot(c,test,'.-',color='red')\n",
    "plt.title(\"Accuracy vs c\")\n",
    "plt.xlabel('c')\n",
    "plt.ylabel('Accuracy')\n",
    "plt.legend([\"Training Accuracy\", \"Testing Accuracy\"])\n",
    "plt.grid()"
   ]
  },
  {
   "cell_type": "code",
   "execution_count": 12,
   "id": "c7b2dd5c",
   "metadata": {},
   "outputs": [
    {
     "data": {
      "text/plain": [
       "1.0"
      ]
     },
     "execution_count": 12,
     "metadata": {},
     "output_type": "execute_result"
    }
   ],
   "source": [
    "test[-1]"
   ]
  },
  {
   "cell_type": "code",
   "execution_count": null,
   "id": "29c24e45",
   "metadata": {},
   "outputs": [],
   "source": []
  }
 ],
 "metadata": {
  "kernelspec": {
   "display_name": "Python 3 (ipykernel)",
   "language": "python",
   "name": "python3"
  },
  "language_info": {
   "codemirror_mode": {
    "name": "ipython",
    "version": 3
   },
   "file_extension": ".py",
   "mimetype": "text/x-python",
   "name": "python",
   "nbconvert_exporter": "python",
   "pygments_lexer": "ipython3",
   "version": "3.8.3"
  }
 },
 "nbformat": 4,
 "nbformat_minor": 5
}
