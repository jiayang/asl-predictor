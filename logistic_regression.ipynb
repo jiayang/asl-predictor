{
 "cells": [
  {
   "cell_type": "code",
   "execution_count": 1,
   "id": "f62ae29b",
   "metadata": {},
   "outputs": [],
   "source": [
    "import numpy as np\n",
    "import pandas as pd\n",
    "from sklearn import linear_model\n",
    "import matplotlib.pyplot as plt\n",
    "%matplotlib inline "
   ]
  },
  {
   "cell_type": "code",
   "execution_count": 101,
   "id": "ec1571f7",
   "metadata": {},
   "outputs": [],
   "source": [
    "df = np.array([])\n",
    "\n",
    "for i in range(10):\n",
    "    data = np.array(pd.read_csv(f'American Sign Language Digits Dataset/{i}/Output Images - Sign {i}.csv'))\n",
    "    df = np.append(df,data)\n",
    "df = df.reshape((5000,65))\n",
    "np.random.shuffle(df)\n",
    "paths = df[:,0]\n",
    "X = df[:,1:64]\n",
    "y = df[:,64]\n",
    "X_train = X[:2500]\n",
    "X_test = X[2500:]\n",
    "y_train = y[:2500]\n",
    "y_test = y[2500:]"
   ]
  },
  {
   "cell_type": "code",
   "execution_count": 98,
   "id": "84364f81",
   "metadata": {},
   "outputs": [],
   "source": [
    "#Returns a model given the training data\n",
    "def logreg_model_asl(c, X_train, Y_train):\n",
    "    logreg = linear_model.LogisticRegression(C=c)\n",
    "    logreg.fit(X_train, Y_train)\n",
    "    return logreg\n",
    "    \n",
    "def logreg_model_asl_l1(c, X_train, Y_train):\n",
    "    logreg = linear_model.LogisticRegression(penalty='l1', C=c, solver='saga')\n",
    "    logreg.fit(X_train, Y_train)\n",
    "    return logreg\n",
    "\n",
    "#Modifies the labels for 1 vs all classification\n",
    "#e.g. if we are testing for \"1\", all the labels != 1 will be set to 0\n",
    "def change_labels(Y_train, num):\n",
    "    ans = np.array([1 if elem == num else 0 for elem in Y_train])\n",
    "    return ans"
   ]
  },
  {
   "cell_type": "code",
   "execution_count": 99,
   "id": "fa389585",
   "metadata": {},
   "outputs": [],
   "source": [
    "#1 vs all classification\n",
    "\n",
    "#predict given all 10 \"1 vs all models\"\n",
    "def prediction(X, models):\n",
    "    confidences = [model.predict(X) for model in models]\n",
    "    ans = []\n",
    "    for i in range(X.shape[0]):\n",
    "        mostconfident = -1\n",
    "        confidence = -1\n",
    "        for j in range(10):\n",
    "            if confidences[j][i] > confidence:\n",
    "                confidence = confidences[j][i]\n",
    "                mostconfident = j\n",
    "        ans.append(mostconfident)\n",
    "    return ans\n",
    "\n",
    "#accuracy\n",
    "def accuracy(Yhat, Y):\n",
    "    correct = [1 if Yhat[i] == Y[i] else 0 for i in range(len(Y))]\n",
    "    return sum(correct)/len(correct)\n",
    "\n",
    "def logreg(c, X_train, Y_train, X_test, Y_test, l2 = True):\n",
    "    models = []\n",
    "    for i in range(10):\n",
    "        Y_train_temp = change_labels(Y_train,i)\n",
    "        if l2:\n",
    "            models.append(logreg_model_asl(c,X_train, Y_train_temp))\n",
    "        else:\n",
    "            models.append(logreg_model_asl_l1(c,X_train, Y_train_temp))\n",
    "    \n",
    "    Yhat_train = prediction(X_train, models)\n",
    "    acc_train = accuracy(Yhat_train, Y_train)\n",
    "    \n",
    "    Yhat_test = prediction(X_test, models)\n",
    "    acc_test = accuracy(Yhat_test, Y_test)\n",
    "    \n",
    "    return (c, acc_train, acc_test)\n"
   ]
  },
  {
   "cell_type": "code",
   "execution_count": 102,
   "id": "d9ee1e6f",
   "metadata": {},
   "outputs": [
    {
     "name": "stderr",
     "output_type": "stream",
     "text": [
      "c:\\users\\jiaya\\appdata\\local\\programs\\python\\python38\\lib\\site-packages\\sklearn\\linear_model\\_sag.py:352: ConvergenceWarning: The max_iter was reached which means the coef_ did not converge\n",
      "  warnings.warn(\n",
      "c:\\users\\jiaya\\appdata\\local\\programs\\python\\python38\\lib\\site-packages\\sklearn\\linear_model\\_sag.py:352: ConvergenceWarning: The max_iter was reached which means the coef_ did not converge\n",
      "  warnings.warn(\n",
      "c:\\users\\jiaya\\appdata\\local\\programs\\python\\python38\\lib\\site-packages\\sklearn\\linear_model\\_sag.py:352: ConvergenceWarning: The max_iter was reached which means the coef_ did not converge\n",
      "  warnings.warn(\n",
      "c:\\users\\jiaya\\appdata\\local\\programs\\python\\python38\\lib\\site-packages\\sklearn\\linear_model\\_sag.py:352: ConvergenceWarning: The max_iter was reached which means the coef_ did not converge\n",
      "  warnings.warn(\n",
      "c:\\users\\jiaya\\appdata\\local\\programs\\python\\python38\\lib\\site-packages\\sklearn\\linear_model\\_sag.py:352: ConvergenceWarning: The max_iter was reached which means the coef_ did not converge\n",
      "  warnings.warn(\n",
      "c:\\users\\jiaya\\appdata\\local\\programs\\python\\python38\\lib\\site-packages\\sklearn\\linear_model\\_sag.py:352: ConvergenceWarning: The max_iter was reached which means the coef_ did not converge\n",
      "  warnings.warn(\n",
      "c:\\users\\jiaya\\appdata\\local\\programs\\python\\python38\\lib\\site-packages\\sklearn\\linear_model\\_sag.py:352: ConvergenceWarning: The max_iter was reached which means the coef_ did not converge\n",
      "  warnings.warn(\n",
      "c:\\users\\jiaya\\appdata\\local\\programs\\python\\python38\\lib\\site-packages\\sklearn\\linear_model\\_sag.py:352: ConvergenceWarning: The max_iter was reached which means the coef_ did not converge\n",
      "  warnings.warn(\n",
      "c:\\users\\jiaya\\appdata\\local\\programs\\python\\python38\\lib\\site-packages\\sklearn\\linear_model\\_sag.py:352: ConvergenceWarning: The max_iter was reached which means the coef_ did not converge\n",
      "  warnings.warn(\n",
      "c:\\users\\jiaya\\appdata\\local\\programs\\python\\python38\\lib\\site-packages\\sklearn\\linear_model\\_sag.py:352: ConvergenceWarning: The max_iter was reached which means the coef_ did not converge\n",
      "  warnings.warn(\n"
     ]
    }
   ],
   "source": [
    "models = logreg(1, X_train, y_train, X_test, y_test, False)"
   ]
  },
  {
   "cell_type": "code",
   "execution_count": 103,
   "id": "b5c012ef",
   "metadata": {},
   "outputs": [
    {
     "data": {
      "text/plain": [
       "(1, 0.9764, 0.9772)"
      ]
     },
     "execution_count": 103,
     "metadata": {},
     "output_type": "execute_result"
    }
   ],
   "source": [
    "models"
   ]
  },
  {
   "cell_type": "markdown",
   "id": "41420c2d",
   "metadata": {},
   "source": [
    "POLYNOMIAL TRANSFORMATION"
   ]
  },
  {
   "cell_type": "code",
   "execution_count": 92,
   "id": "0e08def7",
   "metadata": {},
   "outputs": [],
   "source": [
    "from sklearn.preprocessing import PolynomialFeatures"
   ]
  },
  {
   "cell_type": "code",
   "execution_count": 104,
   "id": "45aa1667",
   "metadata": {},
   "outputs": [],
   "source": [
    "poly = PolynomialFeatures(2)\n",
    "X_transformed_train = poly.fit_transform(X_train)\n",
    "X_transformed_test = poly.fit_transform(X_test)"
   ]
  },
  {
   "cell_type": "code",
   "execution_count": 105,
   "id": "8895b52b",
   "metadata": {},
   "outputs": [
    {
     "name": "stderr",
     "output_type": "stream",
     "text": [
      "c:\\users\\jiaya\\appdata\\local\\programs\\python\\python38\\lib\\site-packages\\sklearn\\linear_model\\_logistic.py:814: ConvergenceWarning: lbfgs failed to converge (status=1):\n",
      "STOP: TOTAL NO. of ITERATIONS REACHED LIMIT.\n",
      "\n",
      "Increase the number of iterations (max_iter) or scale the data as shown in:\n",
      "    https://scikit-learn.org/stable/modules/preprocessing.html\n",
      "Please also refer to the documentation for alternative solver options:\n",
      "    https://scikit-learn.org/stable/modules/linear_model.html#logistic-regression\n",
      "  n_iter_i = _check_optimize_result(\n",
      "c:\\users\\jiaya\\appdata\\local\\programs\\python\\python38\\lib\\site-packages\\sklearn\\linear_model\\_logistic.py:814: ConvergenceWarning: lbfgs failed to converge (status=1):\n",
      "STOP: TOTAL NO. of ITERATIONS REACHED LIMIT.\n",
      "\n",
      "Increase the number of iterations (max_iter) or scale the data as shown in:\n",
      "    https://scikit-learn.org/stable/modules/preprocessing.html\n",
      "Please also refer to the documentation for alternative solver options:\n",
      "    https://scikit-learn.org/stable/modules/linear_model.html#logistic-regression\n",
      "  n_iter_i = _check_optimize_result(\n",
      "c:\\users\\jiaya\\appdata\\local\\programs\\python\\python38\\lib\\site-packages\\sklearn\\linear_model\\_logistic.py:814: ConvergenceWarning: lbfgs failed to converge (status=1):\n",
      "STOP: TOTAL NO. of ITERATIONS REACHED LIMIT.\n",
      "\n",
      "Increase the number of iterations (max_iter) or scale the data as shown in:\n",
      "    https://scikit-learn.org/stable/modules/preprocessing.html\n",
      "Please also refer to the documentation for alternative solver options:\n",
      "    https://scikit-learn.org/stable/modules/linear_model.html#logistic-regression\n",
      "  n_iter_i = _check_optimize_result(\n",
      "c:\\users\\jiaya\\appdata\\local\\programs\\python\\python38\\lib\\site-packages\\sklearn\\linear_model\\_logistic.py:814: ConvergenceWarning: lbfgs failed to converge (status=1):\n",
      "STOP: TOTAL NO. of ITERATIONS REACHED LIMIT.\n",
      "\n",
      "Increase the number of iterations (max_iter) or scale the data as shown in:\n",
      "    https://scikit-learn.org/stable/modules/preprocessing.html\n",
      "Please also refer to the documentation for alternative solver options:\n",
      "    https://scikit-learn.org/stable/modules/linear_model.html#logistic-regression\n",
      "  n_iter_i = _check_optimize_result(\n"
     ]
    }
   ],
   "source": [
    "models = logreg(1, X_transformed_train, y_train, X_transformed_test, y_test)"
   ]
  },
  {
   "cell_type": "code",
   "execution_count": 106,
   "id": "b253756a",
   "metadata": {},
   "outputs": [
    {
     "data": {
      "text/plain": [
       "(1, 0.996, 0.996)"
      ]
     },
     "execution_count": 106,
     "metadata": {},
     "output_type": "execute_result"
    }
   ],
   "source": [
    "models"
   ]
  },
  {
   "cell_type": "code",
   "execution_count": null,
   "id": "da7a9edf",
   "metadata": {},
   "outputs": [],
   "source": []
  }
 ],
 "metadata": {
  "kernelspec": {
   "display_name": "Python 3 (ipykernel)",
   "language": "python",
   "name": "python3"
  },
  "language_info": {
   "codemirror_mode": {
    "name": "ipython",
    "version": 3
   },
   "file_extension": ".py",
   "mimetype": "text/x-python",
   "name": "python",
   "nbconvert_exporter": "python",
   "pygments_lexer": "ipython3",
   "version": "3.8.3"
  }
 },
 "nbformat": 4,
 "nbformat_minor": 5
}
